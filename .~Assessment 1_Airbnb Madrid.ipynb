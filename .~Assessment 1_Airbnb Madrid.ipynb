{
 "cells": [
  {
   "cell_type": "markdown",
   "metadata": {},
   "source": [
    "# Project: Exploration and analysis Airbnb data of Madrid\n",
    "Author: Luis Carrascosa Cabrera"
   ]
  },
  {
   "cell_type": "markdown",
   "metadata": {},
   "source": [
    "# Analysing Airbnb data with pandas and plotly\n"
   ]
  },
  {
   "cell_type": "markdown",
   "metadata": {},
   "source": [
    "## Introduction\n",
    "Airbnb is the world’s biggest accommodation-sharing site. Its rapid growth and impact on vacation rentals has generated heated discussions about its effect in several of the world's largest cities. So much that regulations have emerged against the free use of this website:\n",
    "\n",
    "* Amsterdam: the rental of complete houses is limited to 60 days a year and this will be reduced by half\n",
    "* Barcelona: short-term rentals must have a license and new licenses are not being issued\n",
    "* Berlin: owners need a permission to rent 50% or more of their main residence for a short period of time\n",
    "* London: short-term rentals of entire houses are restricted to 90 days a year\n",
    "* Palma: the mayor has announced the ban on short-term rentals\n",
    "* New York: It is usually illegal to rent apartments for 30 consecutive days or less, unless the host is present\n",
    "* Paris: short-term rentals are limited to 120 days a year\n",
    "* San Francisco: hosts must register as a company and obtain certificates for short-term rental. The rental of entire properties is limited to 90 days a year\n",
    "* Singapore: the minimum period of public housing rental is six consecutive months\n",
    "* Tokyo: home sharing was legalized only in 2017 and is limited to 180 days a year\n",
    "<div style=\"text-align: right\"><i>Source: https://www.bbc.com/mundo/noticias-45355426</i></div>\n",
    "\n",
    "\n",
    "Given the [Airbnb dataset of Madrid](http://insideairbnb.com/get-the-data.html), we propose to obtain the following information:\n",
    "\n",
    "* Which areas have the most Airbnb properties, and which are the most expensive?\n",
    "* Which amenities increase the price of an Airbnb listing?\n",
    "* Influence of host features"
   ]
  },
  {
   "cell_type": "markdown",
   "metadata": {},
   "source": [
    "## Libraries used and version control\n",
    "I will use numpy, pandas and plotly for the visualization. It's necessary a free mapbox account for drawing maps with plotly"
   ]
  },
  {
   "cell_type": "code",
   "execution_count": null,
   "metadata": {},
   "outputs": [],
   "source": [
    "import numpy as np\n",
    "import pandas as pd\n",
    "import geopandas as gpd\n",
    "import seaborn as sns\n",
    "import matplotlib.pyplot as plt\n",
    "import plotly.express as px\n",
    "import plotly.graph_objects as go\n",
    "from datetime import datetime\n",
    "from scipy import stats\n",
    "from plotly.subplots import make_subplots\n",
    "%matplotlib inline"
   ]
  },
  {
   "cell_type": "code",
   "execution_count": null,
   "metadata": {},
   "outputs": [],
   "source": [
    "mapbox_token_folder = \"/home/luis/Documentos/mapbox\"\n",
    "mapbox_access_token = open(f\"{mapbox_token_folder}/token\").read()\n",
    "px.set_mapbox_access_token(mapbox_access_token)"
   ]
  },
  {
   "cell_type": "markdown",
   "metadata": {},
   "source": [
    "### Version control"
   ]
  },
  {
   "cell_type": "code",
   "execution_count": null,
   "metadata": {},
   "outputs": [],
   "source": [
    "print(f'numpy version: {np.__version__}')\n",
    "print(f'pandas version: {pd.__version__}')\n",
    "print(f'geopandas version: {gpd.__version__}')"
   ]
  },
  {
   "cell_type": "code",
   "execution_count": null,
   "metadata": {},
   "outputs": [],
   "source": [
    "pip show geojson"
   ]
  },
  {
   "cell_type": "code",
   "execution_count": null,
   "metadata": {},
   "outputs": [],
   "source": [
    "pip show matplotlib"
   ]
  },
  {
   "cell_type": "code",
   "execution_count": null,
   "metadata": {},
   "outputs": [],
   "source": [
    "pip show plotly"
   ]
  },
  {
   "cell_type": "markdown",
   "metadata": {},
   "source": [
    "## Processing the data\n",
    "### Import the data\n",
    "\n",
    "The dataset used for this project comes from Insideairbnb.com. The dataset was scraped on 2019-11-09 and contains information on all Madrid Airbnb listings that were live on the site on that date (20.539)\n",
    "\n",
    "I will not import free text fields and I will remove the currency symbol from fields with amounts. \"smart_location\", \"zipcode\" are redundant having latitude and longitude. \"reviews_per_month\", \"number_of_reviews_ltm\" with \"number_of_reviews\" too. url fields does not add value to the model. I don't import \"host_name\", \"host_location\" and \"host_about\" too. We will not keep any of the host count columns:"
   ]
  },
  {
   "cell_type": "code",
   "execution_count": null,
   "metadata": {},
   "outputs": [],
   "source": [
    "datasetDir = \"./dataset\"\n",
    "\n",
    "import locale\n",
    "locale.setlocale(locale.LC_ALL, 'en_US.UTF8') \n",
    "conv = locale.localeconv()\n",
    "\n",
    "fconv_prices = lambda x : locale.atof(x.strip(conv['currency_symbol'])) if x else np.nan \n",
    "\n",
    "def fdate_parser(x, dtime_format = \"%d-%m-%Y\"):\n",
    "    return datetime.strptime(x, dtime_format) "
   ]
  },
  {
   "cell_type": "code",
   "execution_count": null,
   "metadata": {},
   "outputs": [],
   "source": [
    "df = pd.read_csv(\n",
    "    f'{datasetDir}/listings_detailed.csv', \n",
    "    sep = ',', \n",
    "    index_col = 'id', \n",
    "    converters = {\n",
    "        'price': fconv_prices, \n",
    "        'weekly_price': fconv_prices, \n",
    "        'monthly_price': fconv_prices,\n",
    "        'security_deposit': fconv_prices,\n",
    "        'cleaning_fee': fconv_prices,\n",
    "        'extra_people': fconv_prices\n",
    "    },\n",
    "    parse_dates = ['first_review', 'last_review'],\n",
    "    usecols = lambda column : column not in [\n",
    "        'zipcode', 'scrape_id', 'last_scraped', 'name', 'summary', 'space', 'description', \n",
    "        'neighborhood_overview', 'notes', 'transit', 'access', 'interaction', 'house_rules', \n",
    "        'thumbnail_url', 'medium_url', 'picture_url', 'xl_picture_url', 'host_url', 'host_name', \n",
    "        'host_location', 'host_about', 'host_thumbnail_url', 'host_picture_url', 'host_neighbourhood', \n",
    "        'host_verifications', 'calendar_last_scraped', 'listing_url', 'smart_location', 'reviews_per_month', \n",
    "        'number_of_reviews_ltm', 'host_id', 'host_total_listings_count', 'calculated_host_listings_count', \n",
    "        'calculated_host_listings_count_entire_homes', 'calculated_host_listings_count_private_rooms', \n",
    "        'calculated_host_listings_count_shared_rooms', 'host_listings_count', 'host_since'\n",
    "    ]\n",
    ")\n",
    "\n",
    "df.head(3)"
   ]
  },
  {
   "cell_type": "markdown",
   "metadata": {},
   "source": [
    "### Cleaning the features"
   ]
  },
  {
   "cell_type": "markdown",
   "metadata": {},
   "source": [
    "I will drop columns with more than 85% nulls"
   ]
  },
  {
   "cell_type": "code",
   "execution_count": null,
   "metadata": {
    "scrolled": true
   },
   "outputs": [],
   "source": [
    "cols_to_drop = set(df.columns[df.isna().mean()>0.85])\n",
    "print(cols_to_drop)"
   ]
  },
  {
   "cell_type": "code",
   "execution_count": null,
   "metadata": {},
   "outputs": [],
   "source": [
    "df.drop(cols_to_drop, axis='columns', inplace=True)"
   ]
  },
  {
   "cell_type": "markdown",
   "metadata": {},
   "source": [
    "We only use latitude, longitude and neighbourhood_cleansed location. As we are studying Madrid, the city and country columns do not contribute"
   ]
  },
  {
   "cell_type": "code",
   "execution_count": null,
   "metadata": {},
   "outputs": [],
   "source": [
    "df_gps = df[['latitude', 'longitude']]\n",
    "df_gps.head()"
   ]
  },
  {
   "cell_type": "code",
   "execution_count": null,
   "metadata": {},
   "outputs": [],
   "source": [
    "df.drop(\n",
    "    ['neighbourhood', 'neighbourhood_group_cleansed', 'street', 'city', 'state', 'country', \n",
    "     'country_code', 'is_location_exact', 'latitude', 'longitude']\n",
    "    , axis='columns', inplace=True\n",
    ")"
   ]
  },
  {
   "cell_type": "markdown",
   "metadata": {},
   "source": [
    "For the number of nights we will only leave \"minimum_nights\" and \"maximum_nights\""
   ]
  },
  {
   "cell_type": "code",
   "execution_count": null,
   "metadata": {},
   "outputs": [],
   "source": [
    "df.drop(\n",
    "    ['minimum_minimum_nights', 'maximum_minimum_nights', 'minimum_maximum_nights', \n",
    "     'maximum_maximum_nights', 'minimum_nights_avg_ntm', 'maximum_nights_avg_ntm']\n",
    "    , axis='columns', inplace=True\n",
    ")"
   ]
  },
  {
   "cell_type": "markdown",
   "metadata": {},
   "source": [
    "We will change the price column for the price per guest"
   ]
  },
  {
   "cell_type": "code",
   "execution_count": null,
   "metadata": {
    "scrolled": true
   },
   "outputs": [],
   "source": [
    "df['B_price_guests'] = df['price']/df['guests_included']\n",
    "\n",
    "df.drop(['price'], axis='columns', inplace=True)\n",
    "df['B_price_guests'].head()"
   ]
  },
  {
   "cell_type": "code",
   "execution_count": null,
   "metadata": {},
   "outputs": [],
   "source": [
    "df[['B_price_guests']].head()"
   ]
  },
  {
   "cell_type": "markdown",
   "metadata": {},
   "source": [
    "We'll eliminate prices per guest above quantile 95. Thus we will eliminate possible artificially high prices due to the effect of smart pricing"
   ]
  },
  {
   "cell_type": "code",
   "execution_count": null,
   "metadata": {},
   "outputs": [],
   "source": [
    "outliers = list(df[df['B_price_guests'] >= df['B_price_guests'].quantile(.95)].index)\n",
    "print(len(outliers))"
   ]
  },
  {
   "cell_type": "code",
   "execution_count": null,
   "metadata": {
    "scrolled": false
   },
   "outputs": [],
   "source": [
    "df_rev = df.drop(outliers, axis='rows', inplace=False)\n",
    "\n",
    "box1 = go.Box(y=df['B_price_guests'])\n",
    "box2 = go.Box(y=df_rev['B_price_guests'])\n",
    "\n",
    "fig = make_subplots(rows=1, cols=2, subplot_titles=(\"Original\", \"95% outliers removal\"))\n",
    "fig.add_trace(box1, row=1, col=1)\n",
    "fig.add_trace(box2, row=1, col=2)\n",
    "fig.update_layout(showlegend=False)\n",
    "\n",
    "fig.show()"
   ]
  },
  {
   "cell_type": "markdown",
   "metadata": {},
   "source": [
    "Thus we eliminate prices per guest that exceed 5000 and even reach 9000 dollars. Let's compare prices per guest in both dataset"
   ]
  },
  {
   "cell_type": "code",
   "execution_count": null,
   "metadata": {},
   "outputs": [],
   "source": [
    "plotData1 = go.Scatter(\n",
    "    x=df.index, y=df['B_price_guests'], \n",
    "    mode='markers',\n",
    "    marker=dict(\n",
    "        color='LightSkyBlue',\n",
    "        size=2\n",
    "    )\n",
    ")\n",
    "\n",
    "plotData2 = go.Scatter(\n",
    "    x=df_rev.index, y=df_rev['B_price_guests'], \n",
    "    mode='markers',\n",
    "    marker=dict(\n",
    "        color='LightSkyBlue',\n",
    "        size=2\n",
    "    )\n",
    ")\n",
    "\n",
    "layout = go.Layout(\n",
    "    title={'x': 0.5},\n",
    "    xaxis={'title': 'id'},\n",
    "    yaxis={'title': 'B_price_guests'},\n",
    "    margin=go.layout.Margin(l=0, r=0, t=0, b=0)\n",
    ")\n",
    "\n",
    "fig = make_subplots(rows=2, cols=1, subplot_titles=(\"Madrid airbnb data\", \n",
    "                                                    \"Madrid airbnb data without 95% outliers\"))\n",
    "fig.add_trace(plotData1, row=1, col=1)\n",
    "fig.add_trace(plotData2, row=2, col=1)\n",
    "fig.update_layout(showlegend=False)\n",
    "\n",
    "fig.update_layout(title_text='Price per guest')\n",
    "\n",
    "fig.show()"
   ]
  },
  {
   "cell_type": "markdown",
   "metadata": {},
   "source": [
    "We don't lose the two concentrations near the ids 20M and 35M.\n",
    "<br>Let's represent each column to review them"
   ]
  },
  {
   "cell_type": "code",
   "execution_count": null,
   "metadata": {
    "scrolled": false
   },
   "outputs": [],
   "source": [
    "df_temp = df_rev.replace({'f': 0, 't': 1}, inplace=False)\n",
    "df_temp.hist(figsize=(20,20));"
   ]
  },
  {
   "cell_type": "markdown",
   "metadata": {},
   "source": [
    "Columns with only one category are deleted"
   ]
  },
  {
   "cell_type": "code",
   "execution_count": null,
   "metadata": {},
   "outputs": [],
   "source": [
    "df_rev.drop(['has_availability', 'host_has_profile_pic', 'is_business_travel_ready', 'require_guest_phone_verification', \n",
    " 'require_guest_profile_picture', 'requires_license'], \n",
    "        axis='columns', inplace=True)"
   ]
  },
  {
   "cell_type": "markdown",
   "metadata": {},
   "source": [
    "## Answering questions\n",
    "* Which areas have the most Airbnb properties, and which are the most expensive?\n",
    "<br> We need the gps coordinates"
   ]
  },
  {
   "cell_type": "code",
   "execution_count": null,
   "metadata": {},
   "outputs": [],
   "source": [
    "df_full_map = df_gps.copy().join(df_rev.loc[:, ['B_price_guests', 'neighbourhood_cleansed']], on = 'id', how = 'inner')\n",
    "df_full_map.head()"
   ]
  },
  {
   "cell_type": "code",
   "execution_count": null,
   "metadata": {
    "scrolled": false
   },
   "outputs": [],
   "source": [
    "fig = px.scatter_mapbox(\n",
    "    df_full_map, lat = \"latitude\", lon = \"longitude\",\n",
    "    color = \"B_price_guests\", color_continuous_scale = px.colors.cyclical.IceFire,\n",
    "    zoom = 10\n",
    ")\n",
    "\n",
    "fig.update_layout(\n",
    "    margin=dict(l=0, r=0, t=0, b=0),\n",
    "    showlegend=True,\n",
    "    autosize=True\n",
    ")\n",
    "\n",
    "fig.show()"
   ]
  },
  {
   "cell_type": "markdown",
   "metadata": {},
   "source": [
    "We need to import the geojson data file and get the representatives points to annotate in the map"
   ]
  },
  {
   "cell_type": "code",
   "execution_count": null,
   "metadata": {},
   "outputs": [],
   "source": [
    "df_madrid_map = gpd.read_file(f'{datasetDir}/neighbourhoods.geojson')\n",
    "crs = {\"init\": \"epsg:4326\"}  \n",
    "\n",
    "df_madrid_map = df_madrid_map.rename(columns={\"neighbourhood\": \"neighbourhood_cleansed\"})\n",
    "df_madrid_map = df_madrid_map.set_index('neighbourhood_cleansed')\n",
    "df_madrid_map = df_madrid_map.drop('neighbourhood_group', axis=1)\n",
    "\n",
    "df_madrid_map['rep_point'] = df_madrid_map.geometry.apply(lambda x: x.representative_point().coords[:][0])"
   ]
  },
  {
   "cell_type": "markdown",
   "metadata": {},
   "source": [
    "We group by \"neighbourhood_cleansed\" and we generate a GeoDataFrame to draw a color map (I can't do it with Plotly)"
   ]
  },
  {
   "cell_type": "code",
   "execution_count": null,
   "metadata": {},
   "outputs": [],
   "source": [
    "df_agg_neighbourhood = df_full_map.groupby('neighbourhood_cleansed').size().to_frame()\n",
    "df_agg_neighbourhood.rename(columns={0: 'number_of_listings'}, inplace=True)\n",
    "df_agg_neighbourhood['median_price'] = df_full_map.groupby('neighbourhood_cleansed').B_price_guests.median().values\n",
    "df_agg_neighbourhood['mean_price'] = round(df_full_map.groupby('neighbourhood_cleansed').B_price_guests.mean(), 2).values\n",
    "\n",
    "geo_df_agg_neighbourhood = gpd.GeoDataFrame(\n",
    "    df_agg_neighbourhood.join(df_madrid_map, on = 'neighbourhood_cleansed', how = 'inner'), \n",
    "    crs = crs\n",
    ") \n",
    "\n",
    "geo_df_agg_neighbourhood.sort_values(by='number_of_listings')"
   ]
  },
  {
   "cell_type": "markdown",
   "metadata": {},
   "source": [
    "We define a function and plot number of listings, median and mean\n",
    "### Listings number"
   ]
  },
  {
   "cell_type": "code",
   "execution_count": null,
   "metadata": {},
   "outputs": [],
   "source": [
    "def region_plot(df_plot, column, rep_point_col = 'rep_point', titleName = '', legend_label = '', \n",
    "                fontsize=10, annonations = False, aspect = 1., figsize=(25, 25), dpi = 100):\n",
    "    fig, ax = plt.subplots(figsize=figsize, dpi = dpi)\n",
    "\n",
    "    df_plot.plot(\n",
    "        alpha = 1, cmap='Blues', edgecolor = \"black\", ax = ax, \n",
    "        column=column,\n",
    "        legend=True,\n",
    "        legend_kwds={'label': legend_label, 'orientation': \"vertical\"}\n",
    "    )\n",
    "\n",
    "    if annonations != False:\n",
    "        for idx, row in df_plot.iterrows():\n",
    "            ax.annotate(\n",
    "                s=idx, \n",
    "                xy=row[rep_point_col],\n",
    "                horizontalalignment='center'\n",
    "            )\n",
    "        \n",
    "    ax.axis('off')\n",
    "    ax.set_title(titleName, fontsize=fontsize)\n",
    "\n",
    "    ax.set_aspect(aspect=aspect)\n",
    "    ax.margins(0)\n",
    "    ax.apply_aspect()\n",
    "    \n",
    "    plt.show()"
   ]
  },
  {
   "cell_type": "code",
   "execution_count": null,
   "metadata": {},
   "outputs": [],
   "source": [
    "region_plot(\n",
    "    geo_df_agg_neighbourhood[geo_df_agg_neighbourhood['number_of_listings']>50], \n",
    "    column = 'number_of_listings', titleName = 'Neighborhoods with 50 listings or greater', \n",
    "    fontsize=20, annonations = True, aspect=4./3, legend_label = 'Number of listings', figsize=(20, 15))"
   ]
  },
  {
   "cell_type": "code",
   "execution_count": null,
   "metadata": {
    "scrolled": false
   },
   "outputs": [],
   "source": [
    "region_plot(\n",
    "    geo_df_agg_neighbourhood[geo_df_agg_neighbourhood['number_of_listings']>100], \n",
    "    column = 'number_of_listings', titleName = 'Neighborhoods with 100 listings or greater', \n",
    "    fontsize=20, annonations = True, aspect = 4./3, legend_label = 'Number of listings', figsize=(18, 12)\n",
    ")"
   ]
  },
  {
   "cell_type": "code",
   "execution_count": null,
   "metadata": {
    "scrolled": false
   },
   "outputs": [],
   "source": [
    "region_plot(\n",
    "    geo_df_agg_neighbourhood[geo_df_agg_neighbourhood['number_of_listings']>500], \n",
    "    column = 'number_of_listings', titleName = 'Neighborhoods with 500 listings or greater', \n",
    "    fontsize=12, annonations = True, aspect = 4./3, legend_label = 'Number of listings', figsize=(8, 5)\n",
    ")"
   ]
  },
  {
   "cell_type": "code",
   "execution_count": null,
   "metadata": {},
   "outputs": [],
   "source": [
    "geo_df_agg_neighbourhood[geo_df_agg_neighbourhood['number_of_listings']>500][['number_of_listings', 'median_price']]"
   ]
  },
  {
   "cell_type": "markdown",
   "metadata": {},
   "source": [
    "The largest number of houses is in the center\n",
    "### Price per guest included\n",
    "<br> Mean or median? There are listings with a high price and only one guest included, but its \"accomodates\" is high. Let's use median to soften those anomalies"
   ]
  },
  {
   "cell_type": "code",
   "execution_count": null,
   "metadata": {},
   "outputs": [],
   "source": [
    "region_plot(\n",
    "    geo_df_agg_neighbourhood, \n",
    "    column = 'median_price', titleName = 'Median price per guest', \n",
    "    fontsize=14, annonations = False, aspect = 4./3, legend_label = 'Median price per guest', figsize=(25, 15)\n",
    ")"
   ]
  },
  {
   "cell_type": "markdown",
   "metadata": {},
   "source": [
    "There are peripheral areas with a high median. Let's filter by min 50$"
   ]
  },
  {
   "cell_type": "code",
   "execution_count": null,
   "metadata": {},
   "outputs": [],
   "source": [
    "region_plot(\n",
    "    geo_df_agg_neighbourhood[geo_df_agg_neighbourhood['median_price']>40.], \n",
    "    column = 'median_price', titleName = 'Neighborhoods with median price per guest greater than 50.0$)', \n",
    "    fontsize=14, annonations = True, aspect = 4./3, legend_label = 'Median price per guest', figsize=(25, 15)\n",
    ")"
   ]
  },
  {
   "cell_type": "code",
   "execution_count": null,
   "metadata": {},
   "outputs": [],
   "source": [
    "geo_df_agg_neighbourhood[geo_df_agg_neighbourhood['median_price']>50][['number_of_listings', 'median_price']]"
   ]
  },
  {
   "cell_type": "markdown",
   "metadata": {},
   "source": [
    "The areas with the highest median price are no longer all concentrated in the city center. The \"Cuatro Vientos\" area is notable, surely there is a high demand due to the air base sited there. However it has little offer, which would explain these high prices"
   ]
  },
  {
   "cell_type": "code",
   "execution_count": null,
   "metadata": {},
   "outputs": [],
   "source": [
    "df_full_map[df_full_map.neighbourhood_cleansed == 'Cuatro Vientos']"
   ]
  },
  {
   "cell_type": "markdown",
   "metadata": {},
   "source": [
    "## Which amenities increase the price of an Airbnb listing?\n",
    "We will draw a barchart for every amenity group to compare number of listings versus median price."
   ]
  },
  {
   "cell_type": "markdown",
   "metadata": {},
   "source": [
    "**amenities**\n",
    "<br>Additional features in the property, e.g. whether it has a TV or parking. This data is a list and we need to extract a list of all posibles amenities "
   ]
  },
  {
   "cell_type": "code",
   "execution_count": null,
   "metadata": {},
   "outputs": [],
   "source": [
    "amenities_list = set()\n",
    "for index, value in df_rev.amenities.items():\n",
    "    value = value.replace('{', '').replace('\"', '').replace('}', '')\n",
    "    amenities_list = amenities_list.union(set(value.split(sep=',')))\n",
    "    \n",
    "print(amenities_list)"
   ]
  },
  {
   "cell_type": "markdown",
   "metadata": {},
   "source": [
    "I define the following groupings of amenities:"
   ]
  },
  {
   "cell_type": "code",
   "execution_count": null,
   "metadata": {},
   "outputs": [],
   "source": [
    "amenities_regexprs = [\n",
    "r'(?P<B_amenities_pets>Pets allowed|Other pet|Dog|Cat|Pets live on this property)',\n",
    "r'(?P<B_amenities_kitchen>Kitchen|Kitchenette|Full kitchen)',\n",
    "r'(?P<B_amenities_high_kitchen>Warming drawer|Wine cooler|Steam oven|Double oven)',\n",
    "r'(?P<B_amenities_high_bedroom>Firm mattress|Memory foam mattress|Pillow-top mattress)',\n",
    "r'(?P<B_amenities_outdoor>BBQ grill|Terrace|Outdoor seating|Patio or balcony|Hammock|Garden or backyard|Balcony|Sun loungers)',\n",
    "r'(?P<B_amenities_family_friendly>Family\\/kid friendly|Changing table|Baby bath|Crib|Children’s books and toys|Pack ’n Play\\/travel crib|Fireplace guards|Babysitter recommendations|Window guards|Children’s dinnerware|Stair gates|Table corner guards|Outlet covers|Baby monitor|High chair)',\n",
    "r'(?P<B_amenities_home_appliances>Washer \\/ Dryer|Refrigerator|Mini fridge|Gas oven|Cooking basics|Dryer|Convection oven|Microwave|Washer|Oven|Dishes and silverware|Iron|Dishwasher)',\n",
    "r'(?P<B_amenities_high_electronics>HBO GO|Smart TV|Netflix|Projector and screen|Game console|Amazon Echo)',\n",
    "r'(?P<B_amenities_normal_electronics>DVD player|Printer|TV|Cable TV|Sound system|High-resolution computer monitor)',\n",
    "r'(?P<B_amenities_special_accessibility>Fixed grab bars for shower|Accessible-height bed|Extra space around bed|Pool with pool hoist|Electric profiling bed|Accessible-height toilet|Wide doorway to guest bathroom|Ground floor access|Single level home|Wheelchair accessible|Disabled parking spot|Shower chair|No stairs or steps to enter|Step-free shower|Bathtub with bath chair|Wide entrance|Fixed grab bars for toilet|Wide entrance for guests|Flat path to guest entrance|Mobile hoist|Wide clearance to shower|Wide hallways|Wide entryway)',\n",
    "r'(?P<B_amenities_breakfast_appliances>Espresso machine|Hot water kettle|Coffee maker)',\n",
    "r'(?P<B_amenities_gym>Gym|Exercise equipment)',\n",
    "r'(?P<B_amenities_pool>Shared pool|Pool)',\n",
    "r'(?P<B_amenities_heating>Heated towel rack|Heating|Heated floors|Stove)',\n",
    "r'(?P<B_amenities_other>Other|Essentials|Breakfast table|Beach essentials|Buzzer\\/wireless intercom|Formal dining area|Ceiling fan|Day bed|Room-darkening shades|Laptop friendly workspace|Standing valet)',\n",
    "r'(?P<B_amenities_views>Beach view|Ski-in/Ski-out|Waterfront|Beachfront|Beachfront)',\n",
    "r'(?P<B_amenities_internet>Ethernet connection|Wifi|Pocket wifi|Internet)',\n",
    "r'(?P<B_amenities_bathroom_basics>Hot water|Walk-in shower|Bathtu|Soaking tub|Handheld shower head|Bath towel|Bidet|Shampoo|Rain shower|Body soap|toilet|Bathroom essentials|Toilet paper|Hair dryer)',\n",
    "r'(?P<B_amenities_cleaning_before_checkout>Cleaning before checkout)',\n",
    "r'(?P<B_amenities_bedroom_basics>Bedroom comforts|Extra pillows and blankets|Bed linens|Hangers)',\n",
    "r'(?P<B_amenities_security>Lockbox|Lock on bedroom door)',\n",
    "r'(?P<B_amenities_indoor_fireplace>Indoor fireplace)',\n",
    "r'(?P<B_amenities_staff>Building staff|Doorman)',\n",
    "r'(?P<B_amenities_smoking>Smoking allowed)',\n",
    "r'(?P<B_amenities_high_bathroom>Jetted tub|Touchless faucets|Hot tub)',\n",
    "r'(?P<B_amenities_cleaning_before_checkout>Cleaning before checkout)',    \n",
    "r'(?P<B_amenities_proximity_host>Host greets you)',\n",
    "r'(?P<B_amenities_general_accesibility>Well-lit path to entrance|Elevator)',\n",
    "r'(?P<B_amenities_free_parking>Free street parking|Free parking on premises)',  \n",
    "r'(?P<B_amenities_paid_parking>Paid parking on premises|Paid parking off premises)',\n",
    "r'(?P<B_amenities_air_conditioning>Central air conditioning|Air conditioning)',\n",
    "r'(?P<B_amenities_privacy>Private living room|Private bathroom|Private entrance|En suite bathroom)',\n",
    "r'(?P<B_amenities_safety>Fire extinguisher|Carbon monoxide detector|Smoke detector|Safety card|First aid kit)',\n",
    "r'(?P<B_amenities_luggage>Mudroom|Luggage dropoff allowed)',    \n",
    "r'(?P<B_amenities_ev_charger>EV charger)',     \n",
    "r'(?P<B_amenities_breakfast>Breakfast)',\n",
    "r'(?P<B_amenities_self_check>Keypad|24-hour check-in|Self check-in|Smart lock)',    \n",
    "r'(?P<B_amenities_suitable_events>Suitable for events)',\n",
    "r'(?P<B_amenities_long_term>Long term stays allowed)'   \n",
    "]"
   ]
  },
  {
   "cell_type": "markdown",
   "metadata": {},
   "source": [
    "Iterating through the list of regular expressions we will build a dataframe with the groups of defined things that we will add to obtain the totals of each group. These regular expressions could be concatenated to obtain such dataframe but in this way pandas does not find all the matches"
   ]
  },
  {
   "cell_type": "code",
   "execution_count": null,
   "metadata": {},
   "outputs": [],
   "source": [
    "def_amenities = df_rev.amenities.str.extract(amenities_regexprs[0], expand=True)\n",
    "\n",
    "for reg_expr in amenities_regexprs[1:]:\n",
    "    col_name = reg_expr.split('<')[1].split('>')[0]\n",
    "    def_amenities[col_name] = df_rev.amenities.str.extract(reg_expr, expand=False)\n",
    "    \n",
    "serie_amenities = def_amenities.notna().sum()/len(df_rev)*100.0\n",
    "round(serie_amenities, 2)"
   ]
  },
  {
   "cell_type": "markdown",
   "metadata": {},
   "source": [
    "We will remove those that offer more than 90% of ads and those that are below 10%"
   ]
  },
  {
   "cell_type": "code",
   "execution_count": null,
   "metadata": {},
   "outputs": [],
   "source": [
    "low_frequent_cols = list(serie_amenities[serie_amenities<10.0].index)\n",
    "high_frequent_cols = list(serie_amenities[serie_amenities>90.0].index)\n",
    "\n",
    "def_amenities.drop(low_frequent_cols, axis=1, inplace=True)\n",
    "def_amenities.drop(high_frequent_cols, axis=1, inplace=True)\n",
    "\n",
    "print(f\"high_frequent_cols: {high_frequent_cols}\\n\\nlow_frequent_cols: {low_frequent_cols}\")"
   ]
  },
  {
   "cell_type": "code",
   "execution_count": null,
   "metadata": {},
   "outputs": [],
   "source": [
    "round(def_amenities.notna().sum()/len(df_rev)*100.0, 2)"
   ]
  },
  {
   "cell_type": "markdown",
   "metadata": {},
   "source": [
    "If it is null we change it to an \"f\". If it is not for a \"t\""
   ]
  },
  {
   "cell_type": "code",
   "execution_count": null,
   "metadata": {
    "scrolled": true
   },
   "outputs": [],
   "source": [
    "for col in list(def_amenities.columns):\n",
    "    def_amenities.loc[def_amenities[col].notna(), col] = 't'\n",
    "    def_amenities.loc[def_amenities[col].isna(), col] = 'f'\n",
    "    \n",
    "def_amenities.head()"
   ]
  },
  {
   "cell_type": "markdown",
   "metadata": {},
   "source": [
    "Let's draw a histogram to see the columns we have obtained by extracting the information from \"amenities\""
   ]
  },
  {
   "cell_type": "code",
   "execution_count": null,
   "metadata": {},
   "outputs": [],
   "source": [
    "df_temp = def_amenities.replace({'f': 0, 't': 1}, inplace=False)\n",
    "df_temp.hist(figsize=(15,15));"
   ]
  },
  {
   "cell_type": "markdown",
   "metadata": {},
   "source": [
    "We join both dataframe and drop the \"amenities\" column"
   ]
  },
  {
   "cell_type": "code",
   "execution_count": null,
   "metadata": {},
   "outputs": [],
   "source": [
    "df_rev.drop(['amenities'], axis=1, inplace=True)\n",
    "df_full = df_rev.join(def_amenities, on = 'id', how = 'inner')\n",
    "df_full.head()"
   ]
  },
  {
   "cell_type": "code",
   "execution_count": null,
   "metadata": {
    "scrolled": false
   },
   "outputs": [],
   "source": [
    "dict_amenities = {\n",
    "    x:x.replace('B_amenities_', '').replace('_', ' ').upper() \n",
    "    for x in df_full.filter(like='B_amenities_').columns.to_list()\n",
    "}\n",
    "\n",
    "def plot_barchart(df, dict_columns = dict_amenities, width=800, height=300):   \n",
    "    for col in list(dict_columns):\n",
    "        s_1 = df.groupby(col).size()\n",
    "        s_2 = df.groupby(col)['B_price_guests'].median()\n",
    "\n",
    "        fig = make_subplots(rows=1, cols=2, shared_xaxes=True, \n",
    "                    subplot_titles=(\"Listings number\",\"Median price ($)\"))\n",
    "        \n",
    "        fig.add_trace(go.Bar(\n",
    "            x=s_1.index, y=s_1.values, marker_color='indianred',\n",
    "            text=s_1.values, textposition='auto'), row=1, col=1)\n",
    "\n",
    "        fig.add_trace(go.Bar(\n",
    "            x=s_2.index, y=s_2.values, marker_color='seagreen',\n",
    "            text=s_2.values, textposition='auto'), row=1, col=2)\n",
    "\n",
    "        fig.update_layout(title_text=dict_columns[col], showlegend=False, width=width, height=height)\n",
    "        fig.show()"
   ]
  },
  {
   "cell_type": "code",
   "execution_count": null,
   "metadata": {
    "scrolled": true
   },
   "outputs": [],
   "source": [
    "plot_barchart(df_full)"
   ]
  },
  {
   "cell_type": "markdown",
   "metadata": {},
   "source": [
    "These are the things that seem to influence (positively) the median price:\n",
    "* Normal electronics: DVD player, Printer, TV, Cable TV, Sound system, High-resolution computer monitor\n",
    "* Air conditioning: Central air conditioning, Air conditioning"
   ]
  },
  {
   "cell_type": "markdown",
   "metadata": {},
   "source": [
    "What if only the neighborhoods with the highest number of listings are reviewed?"
   ]
  },
  {
   "cell_type": "code",
   "execution_count": null,
   "metadata": {},
   "outputs": [],
   "source": [
    "many_listings = geo_df_agg_neighbourhood[geo_df_agg_neighbourhood['number_of_listings']>500].index.to_list()\n",
    "many_listings"
   ]
  },
  {
   "cell_type": "code",
   "execution_count": null,
   "metadata": {},
   "outputs": [],
   "source": [
    "df_full_many = df_full.loc[df_full.neighbourhood_cleansed.isin(many_listings)].copy()\n",
    "plot_barchart(df_full_many)"
   ]
  },
  {
   "cell_type": "markdown",
   "metadata": {},
   "source": [
    "Others amenities begin to influence the price because these neighborhoods are in the center of the city.\n",
    "* Normal electronics: DVD player, Printer, TV, Cable TV, Sound system, High-resolution computer monitor\n",
    "* Air conditioning: Central air conditioning, Air conditioning\n",
    "* General accesibility (little): Well-lit path to entrance, Elevator\n",
    "<br> In the center there are old buildings without an elevator. Maybe for that reason customers look for the house to have an elevator in these neighborhoods\n",
    "* Free parking: Free street parking, Free parking on premises\n",
    "<br> It's difficult to park the car in the central neighborhoods\n",
    "* Privacy: Private living room, Private bathroom, Private entrance, En suite bathroom"
   ]
  },
  {
   "cell_type": "markdown",
   "metadata": {},
   "source": [
    "## Influence of host features\n",
    "We want to analyze how categorical variables related to the host affect the median price. We'll use another histograms\n",
    "* 'host_response_time'\n",
    "* 'host_response_rate'\n",
    "* 'host_is_superhost'\n",
    "* 'host_identity_verified'"
   ]
  },
  {
   "cell_type": "markdown",
   "metadata": {},
   "source": [
    "**host_response_time** - average amount of time the host takes to reply to messages\n",
    "<br>There is some possible values and nans. This nans we will impute these to a new value: unknown"
   ]
  },
  {
   "cell_type": "code",
   "execution_count": null,
   "metadata": {},
   "outputs": [],
   "source": [
    "df_full.host_response_time.fillna(\"unknown\", inplace=True)"
   ]
  },
  {
   "cell_type": "code",
   "execution_count": null,
   "metadata": {},
   "outputs": [],
   "source": [
    "df_full.host_response_time.value_counts()"
   ]
  },
  {
   "cell_type": "markdown",
   "metadata": {},
   "source": [
    "**host_response_rate**\n",
    "<br>Analogous case but for which we will group in a categorical variable: \"unknown\", \\[0-49%\\], \\[50-89%\\], \\[90-99%\\] y 100%"
   ]
  },
  {
   "cell_type": "code",
   "execution_count": null,
   "metadata": {},
   "outputs": [],
   "source": [
    "df_full.host_response_rate = df_full.host_response_rate.str[:-1].astype('float64').fillna(-1)"
   ]
  },
  {
   "cell_type": "code",
   "execution_count": null,
   "metadata": {},
   "outputs": [],
   "source": [
    "df_full.host_response_rate = pd.cut(df_full.host_response_rate, \n",
    "                                   bins=[-2, 0, 50, 90, 99, 100], \n",
    "                                   labels=['unknown', '0-49%', '50-89%', '90-99%', '100%'], \n",
    "                                   include_lowest=True)"
   ]
  },
  {
   "cell_type": "code",
   "execution_count": null,
   "metadata": {},
   "outputs": [],
   "source": [
    "df_full.host_response_rate = df_full.host_response_rate.str[:-1].astype('float64')\n",
    "\n",
    "df_full.host_response_rate = pd.cut(df_full.host_response_rate, \n",
    "                                   bins=[0, 50, 90, 99, 100], \n",
    "                                   labels=['0-49%', '50-89%', '90-99%', '100%'], \n",
    "                                   include_lowest=True)\n",
    "\n",
    "df_full.host_response_rate = df_full.host_response_rate.astype('str')\n",
    "df_full.host_response_rate.replace('nan', 'unknown', inplace=True)\n",
    "\n",
    "df_full.host_response_rate.value_counts()"
   ]
  },
  {
   "cell_type": "markdown",
   "metadata": {},
   "source": [
    "**host_is_superhost** - whether or not the host is a superhost, which is a mark of quality for the top-rated and most experienced hosts\n",
    "<br>There are only 12 nans. We will review the rest of columns \"host_\""
   ]
  },
  {
   "cell_type": "code",
   "execution_count": null,
   "metadata": {},
   "outputs": [],
   "source": [
    "df_full[df_full.host_is_superhost.isna()].filter(like='host_')"
   ]
  },
  {
   "cell_type": "markdown",
   "metadata": {},
   "source": [
    "\"host_is_superhost\", \"host_listings_count\" and \"host_identity_verified\" has the same nulls. We drop these listings"
   ]
  },
  {
   "cell_type": "code",
   "execution_count": null,
   "metadata": {},
   "outputs": [],
   "source": [
    "df_full.drop(df_full[df_full.host_is_superhost.isna()].index, inplace = True)"
   ]
  },
  {
   "cell_type": "code",
   "execution_count": null,
   "metadata": {
    "scrolled": true
   },
   "outputs": [],
   "source": [
    "df_full[df_full.host_is_superhost.isna()].filter(like='host_')"
   ]
  },
  {
   "cell_type": "markdown",
   "metadata": {},
   "source": [
    "**host_identity_verified** - whether or not the host has been verified with id"
   ]
  },
  {
   "cell_type": "code",
   "execution_count": null,
   "metadata": {},
   "outputs": [],
   "source": [
    "df_full.host_identity_verified.isna().sum()"
   ]
  },
  {
   "cell_type": "code",
   "execution_count": null,
   "metadata": {},
   "outputs": [],
   "source": [
    "df_full.host_identity_verified.value_counts()"
   ]
  },
  {
   "cell_type": "code",
   "execution_count": null,
   "metadata": {},
   "outputs": [],
   "source": [
    "host_cols = df_full.filter(like='host_').columns.to_list()\n",
    "dict_host = {key:key.replace('_', ' ').upper() for key in host_cols}\n",
    "dict_host"
   ]
  },
  {
   "cell_type": "code",
   "execution_count": null,
   "metadata": {
    "scrolled": true
   },
   "outputs": [],
   "source": [
    "plot_barchart(df_full, dict_host)"
   ]
  },
  {
   "cell_type": "markdown",
   "metadata": {},
   "source": [
    "**'host_response_time' and 'host_response_rate'**<br>\n",
    "The \"worst\" categories are those with the highest median price. It seems that this feature does not \"cause\" the price, but is a consequence of the price above the median. The host knows that he has a well-valued property in Air Bnb and does not give such exhaustive attention to potential clients"
   ]
  },
  {
   "cell_type": "markdown",
   "metadata": {},
   "source": [
    "**'host_is_superhost' and 'host_identity_verified'**<br>\n",
    "The definition of 'host_is_superhost', according to [Air Bnb](https://www.airbnb.co.uk/help/article/828/what-is-a-superhost?_set_bev_on_new_domain=1579644646_eBD%2Bqp6saBYIE3Z7) \n",
    "> \"Superhosts are experienced hosts who provide a shining example for other hosts, and extraordinary experiences for their guests\""
   ]
  },
  {
   "cell_type": "markdown",
   "metadata": {},
   "source": [
    "The definition of 'host_identity_verified', according to [Air Bnb](https://www.airbnb.co.uk/help/article/1237/how-does-it-work-when-airbnb-verifies-your-identity?_set_bev_on_new_domain=1579644646_eBD%2Bqp6saBYIE3Z7)\n",
    "> At Airbnb, we’re always working on making our community as secure as possible for everyone. That’s why, before booking a home or experience, or becoming a host, we may ask for a government ID or ask you to confirm your legal name and add your address"
   ]
  },
  {
   "cell_type": "markdown",
   "metadata": {},
   "source": [
    "In both cases there is no effect on the price"
   ]
  }
 ],
 "metadata": {
  "kernelspec": {
   "display_name": "Python 3",
   "language": "python",
   "name": "python3"
  },
  "language_info": {
   "codemirror_mode": {
    "name": "ipython",
    "version": 3
   },
   "file_extension": ".py",
   "mimetype": "text/x-python",
   "name": "python",
   "nbconvert_exporter": "python",
   "pygments_lexer": "ipython3",
   "version": "3.8.1"
  }
 },
 "nbformat": 4,
 "nbformat_minor": 2
}
